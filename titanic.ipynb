{
  "nbformat": 4,
  "nbformat_minor": 0,
  "metadata": {
    "colab": {
      "name": "titanic.ipynb",
      "provenance": [],
      "collapsed_sections": [],
      "authorship_tag": "ABX9TyMcpJxlhSfseTQoN7qZqib+",
      "include_colab_link": true
    },
    "kernelspec": {
      "name": "python3",
      "display_name": "Python 3"
    },
    "language_info": {
      "name": "python"
    }
  },
  "cells": [
    {
      "cell_type": "markdown",
      "metadata": {
        "id": "view-in-github",
        "colab_type": "text"
      },
      "source": [
        "<a href=\"https://colab.research.google.com/github/Ireonx/titanic/blob/main/titanic.ipynb\" target=\"_parent\"><img src=\"https://colab.research.google.com/assets/colab-badge.svg\" alt=\"Open In Colab\"/></a>"
      ]
    },
    {
      "cell_type": "code",
      "execution_count": 9,
      "metadata": {
        "colab": {
          "base_uri": "https://localhost:8080/"
        },
        "id": "msf0vlHRUcLM",
        "outputId": "6f3543e9-6f90-4110-97e5-68c7fd83216f"
      },
      "outputs": [
        {
          "output_type": "stream",
          "name": "stderr",
          "text": [
            "/usr/local/lib/python3.7/dist-packages/IPython/core/interactiveshell.py:2882: FutureWarning: The error_bad_lines argument has been deprecated and will be removed in a future version.\n",
            "\n",
            "\n",
            "  exec(code_obj, self.user_global_ns, self.user_ns)\n"
          ]
        }
      ],
      "source": [
        "import numpy as np # linear algebra\n",
        "import pandas as pd # data processing, CSV file I/O (e.g. pd.read_csv)\n",
        "\n",
        "\n",
        "\n",
        "train_data = pd.read_csv('https://raw.githubusercontent.com/Ireonx/titanic/main/train.csv', error_bad_lines=False)\n",
        "test_data = pd.read_csv('https://raw.githubusercontent.com/Ireonx/titanic/main/test.csv', error_bad_lines=False)"
      ]
    },
    {
      "cell_type": "code",
      "source": [
        "train_data.head()"
      ],
      "metadata": {
        "colab": {
          "base_uri": "https://localhost:8080/",
          "height": 206
        },
        "id": "_KOeM7lKzwn6",
        "outputId": "eef3d8d3-796b-43c0-f10b-14a67b04b7e8"
      },
      "execution_count": 6,
      "outputs": [
        {
          "output_type": "execute_result",
          "data": {
            "text/plain": [
              "   PassengerId  Pclass                                          Name     Sex  \\\n",
              "0          892       3                              Kelly, Mr. James    male   \n",
              "1          893       3              Wilkes, Mrs. James (Ellen Needs)  female   \n",
              "2          894       2                     Myles, Mr. Thomas Francis    male   \n",
              "3          895       3                              Wirz, Mr. Albert    male   \n",
              "4          896       3  Hirvonen, Mrs. Alexander (Helga E Lindqvist)  female   \n",
              "\n",
              "    Age  SibSp  Parch   Ticket     Fare Cabin Embarked  \n",
              "0  34.5      0      0   330911   7.8292   NaN        Q  \n",
              "1  47.0      1      0   363272   7.0000   NaN        S  \n",
              "2  62.0      0      0   240276   9.6875   NaN        Q  \n",
              "3  27.0      0      0   315154   8.6625   NaN        S  \n",
              "4  22.0      1      1  3101298  12.2875   NaN        S  "
            ],
            "text/html": [
              "\n",
              "  <div id=\"df-3e18cddd-e78a-47d8-bb1b-55d74eff22e3\">\n",
              "    <div class=\"colab-df-container\">\n",
              "      <div>\n",
              "<style scoped>\n",
              "    .dataframe tbody tr th:only-of-type {\n",
              "        vertical-align: middle;\n",
              "    }\n",
              "\n",
              "    .dataframe tbody tr th {\n",
              "        vertical-align: top;\n",
              "    }\n",
              "\n",
              "    .dataframe thead th {\n",
              "        text-align: right;\n",
              "    }\n",
              "</style>\n",
              "<table border=\"1\" class=\"dataframe\">\n",
              "  <thead>\n",
              "    <tr style=\"text-align: right;\">\n",
              "      <th></th>\n",
              "      <th>PassengerId</th>\n",
              "      <th>Pclass</th>\n",
              "      <th>Name</th>\n",
              "      <th>Sex</th>\n",
              "      <th>Age</th>\n",
              "      <th>SibSp</th>\n",
              "      <th>Parch</th>\n",
              "      <th>Ticket</th>\n",
              "      <th>Fare</th>\n",
              "      <th>Cabin</th>\n",
              "      <th>Embarked</th>\n",
              "    </tr>\n",
              "  </thead>\n",
              "  <tbody>\n",
              "    <tr>\n",
              "      <th>0</th>\n",
              "      <td>892</td>\n",
              "      <td>3</td>\n",
              "      <td>Kelly, Mr. James</td>\n",
              "      <td>male</td>\n",
              "      <td>34.5</td>\n",
              "      <td>0</td>\n",
              "      <td>0</td>\n",
              "      <td>330911</td>\n",
              "      <td>7.8292</td>\n",
              "      <td>NaN</td>\n",
              "      <td>Q</td>\n",
              "    </tr>\n",
              "    <tr>\n",
              "      <th>1</th>\n",
              "      <td>893</td>\n",
              "      <td>3</td>\n",
              "      <td>Wilkes, Mrs. James (Ellen Needs)</td>\n",
              "      <td>female</td>\n",
              "      <td>47.0</td>\n",
              "      <td>1</td>\n",
              "      <td>0</td>\n",
              "      <td>363272</td>\n",
              "      <td>7.0000</td>\n",
              "      <td>NaN</td>\n",
              "      <td>S</td>\n",
              "    </tr>\n",
              "    <tr>\n",
              "      <th>2</th>\n",
              "      <td>894</td>\n",
              "      <td>2</td>\n",
              "      <td>Myles, Mr. Thomas Francis</td>\n",
              "      <td>male</td>\n",
              "      <td>62.0</td>\n",
              "      <td>0</td>\n",
              "      <td>0</td>\n",
              "      <td>240276</td>\n",
              "      <td>9.6875</td>\n",
              "      <td>NaN</td>\n",
              "      <td>Q</td>\n",
              "    </tr>\n",
              "    <tr>\n",
              "      <th>3</th>\n",
              "      <td>895</td>\n",
              "      <td>3</td>\n",
              "      <td>Wirz, Mr. Albert</td>\n",
              "      <td>male</td>\n",
              "      <td>27.0</td>\n",
              "      <td>0</td>\n",
              "      <td>0</td>\n",
              "      <td>315154</td>\n",
              "      <td>8.6625</td>\n",
              "      <td>NaN</td>\n",
              "      <td>S</td>\n",
              "    </tr>\n",
              "    <tr>\n",
              "      <th>4</th>\n",
              "      <td>896</td>\n",
              "      <td>3</td>\n",
              "      <td>Hirvonen, Mrs. Alexander (Helga E Lindqvist)</td>\n",
              "      <td>female</td>\n",
              "      <td>22.0</td>\n",
              "      <td>1</td>\n",
              "      <td>1</td>\n",
              "      <td>3101298</td>\n",
              "      <td>12.2875</td>\n",
              "      <td>NaN</td>\n",
              "      <td>S</td>\n",
              "    </tr>\n",
              "  </tbody>\n",
              "</table>\n",
              "</div>\n",
              "      <button class=\"colab-df-convert\" onclick=\"convertToInteractive('df-3e18cddd-e78a-47d8-bb1b-55d74eff22e3')\"\n",
              "              title=\"Convert this dataframe to an interactive table.\"\n",
              "              style=\"display:none;\">\n",
              "        \n",
              "  <svg xmlns=\"http://www.w3.org/2000/svg\" height=\"24px\"viewBox=\"0 0 24 24\"\n",
              "       width=\"24px\">\n",
              "    <path d=\"M0 0h24v24H0V0z\" fill=\"none\"/>\n",
              "    <path d=\"M18.56 5.44l.94 2.06.94-2.06 2.06-.94-2.06-.94-.94-2.06-.94 2.06-2.06.94zm-11 1L8.5 8.5l.94-2.06 2.06-.94-2.06-.94L8.5 2.5l-.94 2.06-2.06.94zm10 10l.94 2.06.94-2.06 2.06-.94-2.06-.94-.94-2.06-.94 2.06-2.06.94z\"/><path d=\"M17.41 7.96l-1.37-1.37c-.4-.4-.92-.59-1.43-.59-.52 0-1.04.2-1.43.59L10.3 9.45l-7.72 7.72c-.78.78-.78 2.05 0 2.83L4 21.41c.39.39.9.59 1.41.59.51 0 1.02-.2 1.41-.59l7.78-7.78 2.81-2.81c.8-.78.8-2.07 0-2.86zM5.41 20L4 18.59l7.72-7.72 1.47 1.35L5.41 20z\"/>\n",
              "  </svg>\n",
              "      </button>\n",
              "      \n",
              "  <style>\n",
              "    .colab-df-container {\n",
              "      display:flex;\n",
              "      flex-wrap:wrap;\n",
              "      gap: 12px;\n",
              "    }\n",
              "\n",
              "    .colab-df-convert {\n",
              "      background-color: #E8F0FE;\n",
              "      border: none;\n",
              "      border-radius: 50%;\n",
              "      cursor: pointer;\n",
              "      display: none;\n",
              "      fill: #1967D2;\n",
              "      height: 32px;\n",
              "      padding: 0 0 0 0;\n",
              "      width: 32px;\n",
              "    }\n",
              "\n",
              "    .colab-df-convert:hover {\n",
              "      background-color: #E2EBFA;\n",
              "      box-shadow: 0px 1px 2px rgba(60, 64, 67, 0.3), 0px 1px 3px 1px rgba(60, 64, 67, 0.15);\n",
              "      fill: #174EA6;\n",
              "    }\n",
              "\n",
              "    [theme=dark] .colab-df-convert {\n",
              "      background-color: #3B4455;\n",
              "      fill: #D2E3FC;\n",
              "    }\n",
              "\n",
              "    [theme=dark] .colab-df-convert:hover {\n",
              "      background-color: #434B5C;\n",
              "      box-shadow: 0px 1px 3px 1px rgba(0, 0, 0, 0.15);\n",
              "      filter: drop-shadow(0px 1px 2px rgba(0, 0, 0, 0.3));\n",
              "      fill: #FFFFFF;\n",
              "    }\n",
              "  </style>\n",
              "\n",
              "      <script>\n",
              "        const buttonEl =\n",
              "          document.querySelector('#df-3e18cddd-e78a-47d8-bb1b-55d74eff22e3 button.colab-df-convert');\n",
              "        buttonEl.style.display =\n",
              "          google.colab.kernel.accessAllowed ? 'block' : 'none';\n",
              "\n",
              "        async function convertToInteractive(key) {\n",
              "          const element = document.querySelector('#df-3e18cddd-e78a-47d8-bb1b-55d74eff22e3');\n",
              "          const dataTable =\n",
              "            await google.colab.kernel.invokeFunction('convertToInteractive',\n",
              "                                                     [key], {});\n",
              "          if (!dataTable) return;\n",
              "\n",
              "          const docLinkHtml = 'Like what you see? Visit the ' +\n",
              "            '<a target=\"_blank\" href=https://colab.research.google.com/notebooks/data_table.ipynb>data table notebook</a>'\n",
              "            + ' to learn more about interactive tables.';\n",
              "          element.innerHTML = '';\n",
              "          dataTable['output_type'] = 'display_data';\n",
              "          await google.colab.output.renderOutput(dataTable, element);\n",
              "          const docLink = document.createElement('div');\n",
              "          docLink.innerHTML = docLinkHtml;\n",
              "          element.appendChild(docLink);\n",
              "        }\n",
              "      </script>\n",
              "    </div>\n",
              "  </div>\n",
              "  "
            ]
          },
          "metadata": {},
          "execution_count": 6
        }
      ]
    },
    {
      "cell_type": "code",
      "source": [
        "y = train_data.Survived \n",
        "X = train_data.drop(['Survived'], axis = 1)"
      ],
      "metadata": {
        "id": "Wqba7A1m0T5h"
      },
      "execution_count": 10,
      "outputs": []
    },
    {
      "cell_type": "code",
      "source": [
        "import seaborn as sb\n",
        "from sklearn.preprocessing import StandardScaler\n",
        "from sklearn.model_selection import KFold\n",
        "from sklearn.preprocessing import OneHotEncoder\n",
        "from sklearn.metrics import roc_auc_score\n",
        "import matplotlib.pyplot as plt\n",
        "from sklearn import metrics\n",
        "from sklearn.tree import DecisionTreeClassifier\n",
        "from sklearn.model_selection import GridSearchCV\n",
        "\n",
        "object_columns = list(train_data.select_dtypes(include = object))\n",
        "# Columns that will be one-hot encoded\n",
        "low_cardinality_cols = [col for col in object_columns if X[col].nunique() < 10]\n",
        "# Columns that will be dropped from the dataset\n",
        "high_cardinality_cols = list(set(object_columns)-set(low_cardinality_cols))"
      ],
      "metadata": {
        "id": "9amOJs5A0U0B"
      },
      "execution_count": 12,
      "outputs": []
    },
    {
      "cell_type": "code",
      "source": [
        "def strat_kfold_gen_skl(x, y, k):\n",
        "    kf = KFold(n_splits=k, random_state= None, shuffle = True)\n",
        "    solution = []\n",
        "    for train_index, test_index in kf.split(x, y):\n",
        "        x_train, x_test = x[train_index], x[test_index]\n",
        "        y_train, y_test = y[train_index], y[test_index]\n",
        "        solution.append(tuple([x_train, y_train, x_test, y_test]))\n",
        "    return solution\n",
        "\n",
        "\n",
        "def fit_predict(X_train, y_train, X_test, y_test, classifier):\n",
        "    classifier.fit(X_train, y_train)\n",
        "    return classifier.predict(X_test)\n",
        "\n",
        "params = {  'splitter' : ['best', 'random'],\n",
        "            'max_depth': range (1,13),\n",
        "            'min_samples_leaf': range (1,8),\n",
        "            'min_samples_split': range (2,10,2),\n",
        "            'max_features' : ['auto', 'sqrt', 'log2', None],\n",
        "            'max_leaf_nodes': range(2, 20)}\n",
        "def get_best_estimator(estimator, dict_of_params, X, y, cv_num):\n",
        "    gscv = GridSearchCV(estimator, dict_of_params, n_jobs = 4, scoring = roc_auc_score, cv = cv_num).fit(X, y)\n",
        "    return gscv.best_estimator_"
      ],
      "metadata": {
        "id": "iH7Rc_2G0dyU"
      },
      "execution_count": 13,
      "outputs": []
    },
    {
      "cell_type": "code",
      "source": [
        "encoder = OneHotEncoder(sparse = False, handle_unknown='ignore')\n",
        "oh_calls_X = pd.DataFrame(encoder.fit_transform(X[low_cardinality_cols]))\n",
        "oh_calls_X.index = X.index\n",
        "oh_nums_X = X.drop(object_columns, axis = 1)\n",
        "oh_X = pd.concat([oh_nums_X, oh_calls_X], axis = 1)\n",
        "oh_X = oh_X.fillna(oh_X.median())\n",
        "oh_X = oh_X.drop(\"PassengerId\", axis =1)\n",
        "oh_X[\"FamilySize\"] = oh_X[\"SibSp\"] + oh_X[\"Parch\"]\n",
        "oh_X = oh_X.drop(\"SibSp\", axis =1)\n",
        "oh_X = oh_X.drop(\"Parch\", axis =1)"
      ],
      "metadata": {
        "id": "NpXrRI8E0lY3"
      },
      "execution_count": 14,
      "outputs": []
    },
    {
      "cell_type": "code",
      "source": [
        "X_np = oh_X.to_numpy(copy = True)\n",
        "y_np = y.to_numpy(copy = True)"
      ],
      "metadata": {
        "id": "K6NcyNzR0prA"
      },
      "execution_count": 15,
      "outputs": []
    },
    {
      "cell_type": "code",
      "source": [
        "plt.subplots(nrows=2, ncols=1, figsize=(15, 10))\n",
        "k  = np.arange(2,6)\n",
        "accuracy_test = np.zeros(4)\n",
        "accuracy_train = np.zeros(4)\n",
        "for ks in k:\n",
        "    cur_accuracy = np.zeros(ks)\n",
        "    cur_accuracy_train = np.zeros(ks)\n",
        "    classifier = get_best_estimator(DecisionTreeClassifier(), params, X, y, cv_num = ks)\n",
        "    print(f\"Best classifier: {classifier} for ks = {k}\")\n",
        "    for i in range(0, ks):\n",
        "        X_train, y_train, X_test, y_test = strat_kfold_gen_skl(X_np, y_np, ks+1)[i]\n",
        "        predictions = fit_predict(X_train, y_train, X_test, y_test, classifier = classifier)\n",
        "        cur_accuracy[i] = (roc_auc_score(y_test, predictions))\n",
        "        predictions_train = fit_predict(X_train, y_train, X_train, y_train, classifier)\n",
        "        cur_accuracy_train[i] = (roc_auc_score(y_train, predictions_train))\n",
        "    accuracy_test[ks-1] = np.mean(cur_accuracy)\n",
        "    accuracy_train[ks-1] = np.mean(cur_accuracy_train)\n",
        "\n",
        "plt.subplot(2,1,1)\n",
        "plt.plot(k, accuracy_test)\n",
        "plt.ylabel(\"Accuracy for test data\")\n",
        "plt.xlabel(\"K\")\n",
        "plt.subplot(2,1,2)\n",
        "plt.plot(k, accuracy_train)\n",
        "plt.ylabel(\"Accuracy for training data\")\n",
        "plt.xlabel(\"K\")\n",
        "plt.show()"
      ],
      "metadata": {
        "id": "6qeledbC0zfV"
      },
      "execution_count": null,
      "outputs": []
    },
    {
      "cell_type": "code",
      "source": [
        "plt.subplots(nrows=2, ncols=1, figsize=(15, 10))\n",
        "k  = np.arange(2,21)\n",
        "accuracy_test = np.zeros(19)\n",
        "accuracy_train = np.zeros(19)\n",
        "for ks in k:\n",
        "    cur_accuracy = np.zeros(ks)\n",
        "    cur_accuracy_train = np.zeros(ks)\n",
        "    classifier = get_best_estimator(DecisionTreeClassifier(), params, X_train, y_train, cv_num = ks)\n",
        "    print(f\"Best classifier: {classifier} for ks = {k}\")\n",
        "    for i in range(0, ks):\n",
        "        X_train, y_train, X_test, y_test = strat_kfold_gen_skl(X_np, y_np, ks+1)[i]\n",
        "        predictions = fit_predict(X_train, y_train, X_test, y_test, classifier = classifier)\n",
        "        cur_accuracy[i] = (roc_auc_score(y_test, predictions))\n",
        "        predictions_train = fit_predict(X_train, y_train, X_train, y_train, classifier)\n",
        "        cur_accuracy_train[i] = (roc_auc_score(y_train, predictions_train))\n",
        "    accuracy_test[ks-1] = np.mean(cur_accuracy)\n",
        "    accuracy_train[ks-1] = np.mean(cur_accuracy_train)\n",
        "\n",
        "plt.subplot(2,1,1)\n",
        "plt.plot(k, accuracy_test)\n",
        "plt.ylabel(\"Accuracy for test data\")\n",
        "plt.xlabel(\"K\")\n",
        "plt.subplot(2,1,2)\n",
        "plt.plot(k, accuracy_train)\n",
        "plt.ylabel(\"Accuracy for training data\")\n",
        "plt.xlabel(\"K\")\n",
        "plt.show()"
      ],
      "metadata": {
        "id": "XXtv0vNV1bUN"
      },
      "execution_count": null,
      "outputs": []
    },
    {
      "cell_type": "code",
      "source": [
        "calls_test = pd.DataFrame(encoder.fit_transform(test_data[low_cardinality_cols]))\n",
        "test.index = test_data.index\n",
        "nums_test = test_data.drop(object_columns, axis = 1)\n",
        "test = pd.concat([nums_test, calls_test], axis = 1)\n",
        "test = test.fillna(oh_X.median())\n",
        "test = test.drop(\"PassengerId\", axis =1)\n",
        "test[\"FamilySize\"] = test[\"SibSp\"] + test[\"Parch\"]\n",
        "test = test.drop(\"SibSp\", axis =1)\n",
        "test = test.drop(\"Parch\", axis =1)\n",
        "test[\"5\"] = 0\n",
        "\n",
        "classifier = DecisionTreeClassifier(max_depth = 17, random_state = 11, max_leaf_nodes = 60, splitter = 'best')\n",
        "classifier.fit(X_np, y_np)\n",
        "answer = classifier.predict(test)\n",
        "\n",
        "submission_file = pd.concat([test_data[\"PassengerId\"], pd.DataFrame(answer, columns = [\"Survived\"])], axis = 1)\n",
        "submission_file.to_csv('.//titanic_submission_1.csv', index = False)"
      ],
      "metadata": {
        "id": "wkpm-FeB00C0"
      },
      "execution_count": null,
      "outputs": []
    }
  ]
}